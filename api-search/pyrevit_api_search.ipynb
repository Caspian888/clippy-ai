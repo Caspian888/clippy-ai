{
  "cells": [
    {
      "cell_type": "markdown",
      "metadata": {
        "id": "0LNIsiFvuAuv"
      },
      "source": [
        "# Building a Chatbot\n",
        "## Part I: Search and Retrieval\n",
        "\n",
        "### CORE Studio, Thornton Tomasetti\n",
        "\n",
        "#### Instructor: [Seyedomid Sajedi](https://www.linkedin.com/in/seyedomid-sajedi-263b703a)\n",
        "\n",
        "In this exercise, we will explore Retrieval Augmented Generation (RAG) and delve into prompt engineering for large language models. Our objective is to understand how to use these models effectively for Question-Answering (QA) tasks on custom datasets.\n",
        "\n",
        "This notebook represents the first step in a three-part process of creating an interactive chatbot:\n",
        "\n",
        "* Part I: Search and Retrieval\n",
        "* Part II: Prompt Engineering\n",
        "* Part III: Building a Chatbot UI\n",
        "\n",
        "In Parts I and II, we will break down the key components of our custom bot. In Part III, we will integrate these components into a chatbot with a user-friendly interface. Let's get started!\n",
        "\n",
        "\n",
        "---"
      ]
    },
    {
      "cell_type": "markdown",
      "metadata": {
        "id": "lhX4vZ7dwx7r"
      },
      "source": [
        "#Libraries"
      ]
    },
    {
      "cell_type": "code",
      "execution_count": 1,
      "metadata": {
        "id": "_PvbehxB52gY"
      },
      "outputs": [],
      "source": [
        "%%capture\n",
        "!pip install rank_bm25 pypdf2 tiktoken"
      ]
    },
    {
      "cell_type": "code",
      "execution_count": 2,
      "metadata": {
        "id": "m9OykoRj6D6I"
      },
      "outputs": [],
      "source": [
        "# !pip install --upgrade spacy # might be needed if the default spacy in colab is not working\n",
        "import spacy\n",
        "import requests\n",
        "from io import BytesIO\n",
        "from PyPDF2 import PdfReader\n",
        "from tqdm import tqdm\n",
        "import tiktoken\n",
        "import pickle"
      ]
    },
    {
      "cell_type": "markdown",
      "metadata": {
        "id": "gukXLv6vw4CZ"
      },
      "source": [
        "## spaCy\n",
        "[spaCy](https://spacy.io/) is a popular and powerful natural language processing (NLP) library that excels in tasks like tokenization, part-of-speech tagging, named entity recognition. Its efficiency and pre-trained models make it a great choice for developers, researchers, and businesses looking to work with text data, enabling them to quickly and accurately analyze and extract insights from large amounts of text, with support for multiple languages and a user-friendly API.\n",
        "\n",
        "We will use spaCy's tokenization for our exercise but it also comes with other useful features as well that we will quickly take a look at.\n",
        "\n"
      ]
    },
    {
      "cell_type": "markdown",
      "metadata": {
        "id": "Y_wNwZj3zAKt"
      },
      "source": [
        "It is a good idea to remove english stop words from our tokenization."
      ]
    },
    {
      "cell_type": "code",
      "execution_count": 3,
      "metadata": {
        "id": "-1uH_6HU8aal"
      },
      "outputs": [],
      "source": [
        "nlp_model = spacy.load(\"en_core_web_sm\")\n",
        "# Get the list of stop words\n",
        "stop_words = list(nlp_model.Defaults.stop_words)\n",
        "# print(len(stop_words))\n",
        "# print(stop_words)"
      ]
    },
    {
      "cell_type": "markdown",
      "metadata": {
        "id": "_An6KjDm0Dgh"
      },
      "source": [
        "We will use spaCy to tokenize both reference documents in our database and user search queries. The following function handles tokenization for us:"
      ]
    },
    {
      "cell_type": "code",
      "execution_count": 4,
      "metadata": {
        "id": "jJFk7ylwBdbq"
      },
      "outputs": [],
      "source": [
        "def spacy_tokenizer(text, nlp):\n",
        "    doc = nlp(text)\n",
        "    tokens = []\n",
        "    for token in doc:\n",
        "        # Check if the token is not punctuation and not a stop word\n",
        "        if not (token.is_punct or token.is_stop):\n",
        "            tokens.append(token.lemma_.lower())\n",
        "    return tokens"
      ]
    },
    {
      "cell_type": "code",
      "execution_count": 5,
      "metadata": {
        "id": "35xw11Cz8lPd"
      },
      "outputs": [],
      "source": [
        "openai_tokenizer = tiktoken.get_encoding(\"cl100k_base\")"
      ]
    },
    {
      "cell_type": "markdown",
      "metadata": {
        "id": "1mR3-J_q00YS"
      },
      "source": [
        "The next function will grab a pdf document from a url and loads it into memory. You can alternatively upload a document to Colab or your working directory and load it manually."
      ]
    },
    {
      "cell_type": "code",
      "execution_count": 6,
      "metadata": {
        "id": "JDRIwd6VH11A"
      },
      "outputs": [],
      "source": [
        "# We used this function for topic modeling\n",
        "def get_pdf_as_memory_stream(url):\n",
        "    response = requests.get(url)\n",
        "    response.raise_for_status()  # Raise an error for HTTP errors\n",
        "    # Convert the response content into a BytesIO stream\n",
        "    return BytesIO(response.content)"
      ]
    },
    {
      "cell_type": "code",
      "source": [
        "# from google.colab import drive\n",
        "# drive.mount('/content/drive')"
      ],
      "metadata": {
        "id": "zYheyVw194ru"
      },
      "execution_count": 7,
      "outputs": []
    },
    {
      "cell_type": "code",
      "source": [
        "# import os\n",
        "\n",
        "# directory_path = '/content/drive/MyDrive/Learn/Coding/Revit APIs/2021.1/html/'\n",
        "\n",
        "# # Get all files in directory\n",
        "# files_in_directory = [f for f in os.listdir(directory_path) if os.path.isfile(os.path.join(directory_path, f))]\n",
        "# # print(files_in_directory)\n",
        "# # print(len(files_in_directory))\n",
        "\n",
        "# from bs4 import BeautifulSoup\n",
        "\n",
        "# api_docs = []\n",
        "# for file_name in files_in_directory:\n",
        "#     # print(file_name)\n",
        "#     full_path = os.path.join(directory_path, file_name)  # Get full path to file\n",
        "#     with open(full_path, 'r', encoding='utf-8') as file:  # Add encoding='utf-8' to handle any special characters in the HTML files\n",
        "#         soup = BeautifulSoup(file, 'html.parser')\n",
        "#         # print(soup.title.string if soup.title else \"No title\")\n",
        "#         api_docs.append(str(soup.prettify()))"
      ],
      "metadata": {
        "id": "FKwj83Of-bEZ"
      },
      "execution_count": 8,
      "outputs": []
    },
    {
      "cell_type": "code",
      "source": [
        "# print(soup)\n",
        "# print(soup.prettify())\n",
        "# print(api_docs[0:20])\n",
        "\n",
        "# for soup in api_docs[0:20]:\n",
        "#   print(soup.find_all('p'))\n",
        "# print(soup)"
      ],
      "metadata": {
        "id": "HiaMJFx7NXOR"
      },
      "execution_count": 9,
      "outputs": []
    },
    {
      "cell_type": "markdown",
      "source": [],
      "metadata": {
        "id": "ckXBtQZPBFqv"
      }
    },
    {
      "cell_type": "markdown",
      "metadata": {
        "id": "WrUDx66j1MnK"
      },
      "source": [
        "Scrape PDF contents"
      ]
    },
    {
      "cell_type": "code",
      "execution_count": 10,
      "metadata": {
        "id": "focWa87oEHVT"
      },
      "outputs": [],
      "source": [
        "# pdf_url = r\"https://www.nyc.gov/assets/buildings/local_laws/ll77of2023.pdf\"\n",
        "pdf_url = r\"https://readthedocs.org/projects/pyrevit/downloads/pdf/latest/\"\n",
        "pdf_file = get_pdf_as_memory_stream(pdf_url)"
      ]
    },
    {
      "cell_type": "markdown",
      "metadata": {
        "id": "6dGoKe4j2ddc"
      },
      "source": [
        "Loading a pdf file and extracting pages is very similar to what we did in exercise 2."
      ]
    },
    {
      "cell_type": "code",
      "execution_count": 11,
      "metadata": {
        "colab": {
          "base_uri": "https://localhost:8080/"
        },
        "id": "YjcSzVVLH7_7",
        "outputId": "bce277ea-607a-4a85-ca1f-ea1f85c8faba"
      },
      "outputs": [
        {
          "output_type": "stream",
          "name": "stdout",
          "text": [
            "Number of pages: 134\n"
          ]
        }
      ],
      "source": [
        "reader = PdfReader(pdf_file)\n",
        "# number of pages\n",
        "n_pages = len(reader.pages)\n",
        "print(f\"Number of pages: {n_pages}\")"
      ]
    },
    {
      "cell_type": "code",
      "execution_count": 12,
      "metadata": {
        "colab": {
          "base_uri": "https://localhost:8080/"
        },
        "id": "SYrMlOkjIH_J",
        "outputId": "674f9565-045a-4abb-ef52-422eb6bcb9ee"
      },
      "outputs": [
        {
          "output_type": "stream",
          "name": "stdout",
          "text": [
            "<PyPDF2._page._VirtualList object at 0x7a861d217460>\n",
            "pyRevit Documentation\n",
            "Release 4.8.13.23182+2215\n",
            "eirannejad\n",
            "Jul 01, 2023\n"
          ]
        }
      ],
      "source": [
        "print(reader.pages)\n",
        "page = reader.pages[0]\n",
        "print(page.extract_text())"
      ]
    },
    {
      "cell_type": "markdown",
      "metadata": {
        "id": "RP2S0Mcn2uRJ"
      },
      "source": [
        "## Indexing the search database\n",
        "Large language models have a limit cap on the amount of text they can handle for each conversation. We have to keep that in mind when building our search databse. It is ideal to chunk your long documents into small and independent sections. This smart chunking, however, could be very challenging to automate for large datasets. It is also important to keep the chunks roughly the same size. Having very long and very short chunks could adversly affect the quality of search.\n",
        "\n",
        "For this exercise, we will simply split the document page by page. In a real project, it is often worth spending on a more delibrate strategy to index and chunk your text dataset."
      ]
    },
    {
      "cell_type": "code",
      "execution_count": 13,
      "metadata": {
        "colab": {
          "base_uri": "https://localhost:8080/"
        },
        "id": "l2yfGq42Q_5H",
        "outputId": "b12fb5ff-b231-4df4-8a0c-b06d08adadda"
      },
      "outputs": [
        {
          "output_type": "stream",
          "name": "stderr",
          "text": [
            "100%|██████████| 134/134 [00:13<00:00,  9.68it/s]\n"
          ]
        }
      ],
      "source": [
        "# tokenize dataset\n",
        "tokenized_dataset= []\n",
        "text_dataset =[]\n",
        "\n",
        "# # from pdf\n",
        "for page in tqdm(reader.pages,total=n_pages):\n",
        "  text = page.extract_text()\n",
        "  text_dataset.append(text)\n",
        "  tokenized_page = spacy_tokenizer(text,nlp_model)\n",
        "  tokenized_dataset.append(tokenized_page)\n",
        "\n",
        "# from beautiful-soup\n",
        "# print(tqdm)\n",
        "# print(len(api_docs))\n",
        "# for html in api_docs:\n",
        "#     # print(html)\n",
        "#     text_dataset.append(html)\n",
        "#     tokenized_text = spacy_tokenizer(html, nlp_model)\n",
        "#     print(tokenized_text)\n",
        "#     tokenized_dataset.append(tokenized_text)"
      ]
    },
    {
      "cell_type": "code",
      "execution_count": 14,
      "metadata": {
        "colab": {
          "base_uri": "https://localhost:8080/"
        },
        "id": "4iKryIOIRsR8",
        "outputId": "e5f831d6-8591-4d02-8abc-267ddb71db5f"
      },
      "outputs": [
        {
          "output_type": "stream",
          "name": "stdout",
          "text": [
            "['pyrevit', 'documentation', '\\n', 'release', '4.8.13.23182', '+', '2215', '\\n', 'eirannejad', '\\n', 'jul', '01', '2023']\n"
          ]
        }
      ],
      "source": [
        "print(tokenized_dataset[0])"
      ]
    },
    {
      "cell_type": "markdown",
      "metadata": {
        "id": "GQ-Ev3Th4Lrb"
      },
      "source": [
        "## Search Algorithm\n",
        "Search algorithms play a pivotal role in various fields. Their complexity stems from the need to efficiently navigate vast datasets or solution spaces, making them indispensable tools for finding relevant information and optimizing decision-making processes in the modern world. For our search engine, we will utilize a classical and popular ranking model called [BM25](https://en.wikipedia.org/wiki/Okapi_BM25).\n",
        "\n",
        "**Note:**\n",
        "\n",
        "BM25 is a keyword sensitive (lexical) search algorithm. It calculates a relavance score between a given user query and reference documents. Does this sound familiar to anything we did befin the previous exercises?"
      ]
    },
    {
      "cell_type": "code",
      "execution_count": 15,
      "metadata": {
        "id": "bLweGdDjNpqN"
      },
      "outputs": [],
      "source": [
        "from rank_bm25 import BM25Okapi\n",
        "def init_bm25_vectorizer():\n",
        "    return BM25Okapi(tokenized_dataset)\n",
        "bm25_vectorizer = init_bm25_vectorizer()"
      ]
    },
    {
      "cell_type": "code",
      "execution_count": 16,
      "metadata": {
        "id": "KhMivpx1SSCn",
        "colab": {
          "base_uri": "https://localhost:8080/"
        },
        "outputId": "e44c05d6-dd89-412b-f95d-c7aef05baa6f"
      },
      "outputs": [
        {
          "output_type": "execute_result",
          "data": {
            "text/plain": [
              "['code', 'need', 'create', 'sheet', 'revit']"
            ]
          },
          "metadata": {},
          "execution_count": 16
        }
      ],
      "source": [
        "# search\n",
        "query=\"What code do i need to create a sheet in revit?\"\n",
        "query_tokens = spacy_tokenizer(query,nlp_model)\n",
        "query_tokens"
      ]
    },
    {
      "cell_type": "code",
      "execution_count": 17,
      "metadata": {
        "id": "ICTqNUNqSxhx",
        "colab": {
          "base_uri": "https://localhost:8080/"
        },
        "outputId": "e433aa43-3309-48fa-e983-a246a059b789"
      },
      "outputs": [
        {
          "output_type": "stream",
          "name": "stdout",
          "text": [
            "(134,)\n"
          ]
        }
      ],
      "source": [
        "bm25_scores = bm25_vectorizer.get_scores(query_tokens)\n",
        "print(bm25_scores.shape)"
      ]
    },
    {
      "cell_type": "markdown",
      "metadata": {
        "id": "ax_oceEV8SMh"
      },
      "source": [
        "After scoring the documents based on relevance, they can be sorted to get the top k results."
      ]
    },
    {
      "cell_type": "code",
      "execution_count": 18,
      "metadata": {
        "id": "iB7U4oNjS8Ko",
        "colab": {
          "base_uri": "https://localhost:8080/"
        },
        "outputId": "cf8d9c1f-d061-4bd4-d29d-6ee48135bd74"
      },
      "outputs": [
        {
          "output_type": "execute_result",
          "data": {
            "text/plain": [
              "[{'page_indx': 78, 'score': 9.733064622040718},\n",
              " {'page_indx': 62, 'score': 9.630586152831768},\n",
              " {'page_indx': 87, 'score': 7.180500677283229}]"
            ]
          },
          "metadata": {},
          "execution_count": 18
        }
      ],
      "source": [
        "import numpy as np\n",
        "top_k = 3 # Number of top k pages based on BM25 score\n",
        "top_page_indx= np.argsort(bm25_scores)[-top_k:][::-1]\n",
        "hits = [{'page_indx': idx, 'score': bm25_scores[idx]} for idx in top_page_indx]\n",
        "hits"
      ]
    },
    {
      "cell_type": "markdown",
      "metadata": {
        "id": "wENpOWbv8xtG"
      },
      "source": [
        "Now, let's print the retrieved documents:"
      ]
    },
    {
      "cell_type": "code",
      "execution_count": 19,
      "metadata": {
        "id": "RB3kEyDRcZD8",
        "colab": {
          "base_uri": "https://localhost:8080/"
        },
        "outputId": "d5392f39-124f-4f48-834a-811bb08f210f"
      },
      "outputs": [
        {
          "output_type": "stream",
          "name": "stdout",
          "text": [
            "pyRevit Documentation, Release 4.8.13.23182+2215\n",
            "Returns list of selected schedules\n",
            "Return type list[DB.ViewSchedule]\n",
            "Example\n",
            ">>> from pyrevit import forms\n",
            ">>>forms.select_schedules()\n",
            "...[<Autodesk.Revit.DB.ViewSchedule object>,\n",
            "...<Autodesk.Revit.DB.ViewSchedule object>]\n",
            "pyrevit.forms. select_sheets (title=’Select Sheets’ ,button_name=’Select’ ,width=500 ,multi-\n",
            "ple=True ,ﬁlterfunc=None ,doc=None ,include_placeholder=True ,\n",
            "use_selection=False )\n",
            "Standard form for selecting sheets.\n",
            "Sheets are grouped into sheet sets and sheet set can be selected from a drop down box at the top of window.\n",
            "Parameters\n",
            "•title (str, optional ) – list window title\n",
            "•button_name (str, optional ) – list window button caption\n",
            "•width (int, optional ) – width of list window\n",
            "•multiple (bool, optional ) – allow multi-selection (uses check boxes). defaults to\n",
            "True\n",
            "•filterfunc (function ) – ﬁlter function to be applied to context items.\n",
            "•doc (DB.Document, optional ) – source document for sheets; defaults to active doc-\n",
            "ument\n",
            "•use_selection (bool, optional ) – ask if user wants to use currently selected\n",
            "sheets.\n",
            "Returns list of selected sheets\n",
            "Return type list[DB.ViewSheet]\n",
            "Example\n",
            ">>> from pyrevit import forms\n",
            ">>>forms.select_sheets()\n",
            "...[<Autodesk.Revit.DB.ViewSheet object>,\n",
            "...<Autodesk.Revit.DB.ViewSheet object>]\n",
            "pyrevit.forms. select_swatch (title=’Select Color Swatch’ ,button_name=’Select’ )\n",
            "Standard form for selecting a color swatch.\n",
            "Parameters\n",
            "•title (str, optional ) – swatch list window title\n",
            "•button_name (str, optional ) – swatch list window button caption\n",
            "Returns rgb color\n",
            "Return type pyrevit.coreutils.colors.RGB\n",
            "5.2. pyrevit.forms.utils 75\n",
            "\n",
            "pyRevit Documentation, Release 4.8.13.23182+2215\n",
            "Any object can be passed in a list to the context argument. This class wraps the objects passed to context,\n",
            "inTemplateListItem . This class provides the necessary mechanism to make this form work both for\n",
            "selecting items from a list, and from a list of checkboxes. See the list of arguments below for additional options\n",
            "and features.\n",
            "Parameters\n",
            "•context (list[str] or dict[list[str]] ) – list of items to be selected from\n",
            "OR dict of list of items to be selected from. use dict when input items need to be grouped\n",
            "e.g. List of sheets grouped by sheet set.\n",
            "•title (str, optional ) – window title. see super class for defaults.\n",
            "•width (int, optional ) – window width. see super class for defaults.\n",
            "•height (int, optional ) – window height. see super class for defaults.\n",
            "•button_name (str, optional ) – name of select button. defaults to ‘Select’\n",
            "•name_attr (str, optional ) – object attribute that should be read as item name.\n",
            "•multiselect (bool, optional ) – allow multi-selection (uses check boxes). defaults\n",
            "to False\n",
            "•info_panel (bool, optional ) – show information panel and ﬁll with .description\n",
            "property of item\n",
            "•return_all (bool, optional ) – return all items. This is handly when some input\n",
            "items have states and the script needs to check the state changes on all items. This options\n",
            "works in multiselect mode only. defaults to False\n",
            "•filterfunc (function ) – ﬁlter function to be applied to context items.\n",
            "•resetfunc (function ) – reset function to be called when user clicks on Reset button\n",
            "•group_selector_title (str) – title for list group selector. defaults to ‘List Group’\n",
            "•default_group (str) – name of defautl group to be selected\n",
            "Example\n",
            ">>> from pyrevit import forms\n",
            ">>>items = ['item1', 'item2', 'item3']\n",
            ">>>forms.SelectFromList.show(items, button_name='Select Item')\n",
            ">>>['item1']\n",
            ">>> from pyrevit import forms\n",
            ">>>ops = [viewsheet1, viewsheet2, viewsheet3]\n",
            ">>>res = forms.SelectFromList.show(ops,\n",
            "... multiselect= False,\n",
            "... name_attr='Name',\n",
            "... button_name='Select Sheet')\n",
            ">>> from pyrevit import forms\n",
            ">>>ops = {'Sheet Set A': [viewsheet1, viewsheet2, viewsheet3],\n",
            "... 'Sheet Set B': [viewsheet4, viewsheet5, viewsheet6]}\n",
            ">>>res = forms.SelectFromList.show(ops,\n",
            "... multiselect= True,\n",
            "... name_attr='Name',\n",
            "(continues on next page)\n",
            "5.2. pyrevit.forms.utils 59\n",
            "\n",
            "pyRevit Documentation, Release 4.8.13.23182+2215\n",
            "pyrevit.loader.sessionmgr. load_session ()\n",
            "Handles loading/reloading of the pyRevit addin and extensions. To create a proper ui, pyRevit extensions\n",
            "needs to be properly parsed and a dll assembly needs to be created. This function handles these tasks through\n",
            "interactions with .extensions, .loader.asmmaker, and .loader.uimaker\n",
            "Example\n",
            ">>> from pyrevit.loader.sessionmgr import load_session\n",
            ">>>load_session() # start loading a new pyRevit session\n",
            "Returns None\n",
            "7.5 pyrevit.loader.uimaker\n",
            "UI maker.\n",
            "pyrevit.loader.uimaker. update_pyrevit_ui (ui_ext ,ext_asm_info ,create_beta=False )\n",
            "Updates/Creates pyRevit ui for the given extension and provided assembly dll address.\n",
            "Loader base module.\n",
            "84 Chapter 7. pyrevit.loader\n",
            "1205\n"
          ]
        }
      ],
      "source": [
        "import pprint\n",
        "total_tokens = []\n",
        "reference_list = []\n",
        "\n",
        "for hit in hits:\n",
        "  page_str = text_dataset[hit['page_indx']]\n",
        "  openai_tokenizer = tiktoken.get_encoding(\"cl100k_base\")\n",
        "  token_count = len(openai_tokenizer.encode(page_str))\n",
        "  total_tokens.append(token_count)\n",
        "  reference_list.append(page_str)\n",
        "\n",
        "  # print(f\"PAGE: {hit['page_indx']+1}, token count:{token_count}\")\n",
        "  # print(\"\\n\")\n",
        "  # pprint.pprint(f\"PAGE: {hit['page_indx']+1}, token count:{token_count}\")\n",
        "  # print(\"\\n\")\n",
        "\n",
        "\n",
        "  # print(page_str)\n",
        "  # print(\"-\"*50)\n",
        "\n",
        "all_references = ('\\n\\n'.join(reference_list))\n",
        "print(all_references)\n",
        "print(sum(total_tokens))"
      ]
    },
    {
      "cell_type": "markdown",
      "metadata": {
        "id": "P33tDnP99BIP"
      },
      "source": [
        "Finally we can create a clean function for our document retrieval:"
      ]
    },
    {
      "cell_type": "code",
      "execution_count": 21,
      "metadata": {
        "id": "lPHUiNYDmPMo"
      },
      "outputs": [],
      "source": [
        "import pprint\n",
        "\n",
        "def doc_retrieval(query,\n",
        "                  top_k=3):\n",
        "  #  we need to load bm25_vectorizer,nlp_model in other scripts\n",
        "  query_tokens = spacy_tokenizer(query,nlp_model)\n",
        "  bm25_scores = bm25_vectorizer.get_scores(query_tokens)\n",
        "  top_page_indx= np.argsort(bm25_scores)[-top_k:][::-1]\n",
        "  hits = [{'page_indx': idx, 'score': bm25_scores[idx]} for idx in top_page_indx]\n",
        "\n",
        "  total_tokens = []\n",
        "  reference_list = []\n",
        "\n",
        "  print('-'*100)\n",
        "  print(f\"Query: {query}\")\n",
        "  print('-'*100)\n",
        "\n",
        "  for hit in hits:\n",
        "    page_str = text_dataset[hit['page_indx']]\n",
        "    openai_tokenizer = tiktoken.get_encoding(\"cl100k_base\")\n",
        "    token_count = len(openai_tokenizer.encode(page_str))\n",
        "    total_tokens.append(token_count)\n",
        "    reference_list.append(page_str)\n",
        "    pprint.pprint(page_str)\n",
        "\n",
        "  print(f\"\\nToken count from reference text: {sum(total_tokens)}\")\n",
        "  print('-'*100, '\\n')\n",
        "\n",
        "  all_references = ('\\n\\n'.join(reference_list))\n",
        "  return all_references"
      ]
    },
    {
      "cell_type": "code",
      "execution_count": 28,
      "metadata": {
        "id": "H1z6pUrAnB2-",
        "colab": {
          "base_uri": "https://localhost:8080/",
          "height": 1000
        },
        "outputId": "5165ed24-902a-47b8-a448-8c975672d65c"
      },
      "outputs": [
        {
          "output_type": "stream",
          "name": "stdout",
          "text": [
            "----------------------------------------------------------------------------------------------------\n",
            "Query: create input window\n",
            "----------------------------------------------------------------------------------------------------\n",
            "('pyRevit Documentation, Release 4.8.13.23182+2215\\n'\n",
            " 'update_window ()\\n'\n",
            " 'Update the prompt bar to match Revit window.\\n'\n",
            " 'classpyrevit.forms. TemplateUserInputWindow (context ,title,width ,height '\n",
            " ',**kwargs)\\n'\n",
            " 'Base class for pyRevit user input standard forms.\\n'\n",
            " 'Parameters\\n'\n",
            " '•context (any ) – window context element(s)\\n'\n",
            " '•title (str) – window title\\n'\n",
            " '•width (int) – window width\\n'\n",
            " '•height (int) – window height\\n'\n",
            " '•**kwargs – other arguments to be passed to _setup()\\n'\n",
            " 'classmethod show (context ,title=’User Input’ ,width=500 ,height=600 '\n",
            " ',**kwargs)\\n'\n",
            " 'Show user input window.\\n'\n",
            " 'Parameters\\n'\n",
            " '•context (any ) – window context element(s)\\n'\n",
            " '•title (str) – window title\\n'\n",
            " '•width (int) – window width\\n'\n",
            " '•height (int) – window height\\n'\n",
            " '•**kwargs (any ) – other arguments to be passed to window\\n'\n",
            " 'classpyrevit.forms. WPFWindow (xaml_source , literal_string=False , '\n",
            " 'handle_esc=True ,\\n'\n",
            " 'set_owner=True )\\n'\n",
            " 'WPF Window base class for all pyRevit forms.\\n'\n",
            " 'Parameters\\n'\n",
            " '•xaml_source (str) – xaml source ﬁlepath or xaml content\\n'\n",
            " '•literal_string (bool ) – xaml_source contains xaml content, not ﬁlepath\\n'\n",
            " '•handle_esc (bool ) – handle Escape button and close the window\\n'\n",
            " '•set_owner (bool ) – set the owner of window to host app window\\n'\n",
            " 'Example\\n'\n",
            " '>>> from pyrevit import forms\\n'\n",
            " \">>>layout = '<Window ' \\\\\\n\"\n",
            " '>>> \\'xmlns=\"http://schemas.microsoft.com/winfx/2006/xaml/presentation\" \\'\\n'\n",
            " '˓→\\\\\\n'\n",
            " '>>> \\'xmlns:x=\"http://schemas.microsoft.com/winfx/2006/xaml\" \\' \\\\\\n'\n",
            " '>>> \\'ShowInTaskbar=\"False\" ResizeMode=\"NoResize\" \\' \\\\\\n'\n",
            " '>>> \\'WindowStartupLocation=\"CenterScreen\" \\' \\\\\\n'\n",
            " '>>> \\'HorizontalContentAlignment=\"Center\">\\' \\\\\\n'\n",
            " \">>> '</Window>'\\n\"\n",
            " '>>>w = forms.WPFWindow(layout, literal_string= True)\\n'\n",
            " '>>>w.show()\\n'\n",
            " 'static disable_element (*wpf_elements )\\n'\n",
            " 'Enable elements.\\n'\n",
            " 'Parameters *wpf_elements – WPF framework elements to be enabled\\n'\n",
            " '5.2. pyrevit.forms.utils 61')\n",
            "('pyRevit Documentation, Release 4.8.13.23182+2215\\n'\n",
            " 'Returns joined string\\n'\n",
            " 'Return type str\\n'\n",
            " 'pyrevit.coreutils. kill_tasks (task_name)\\n'\n",
            " 'Kill running tasks matching task_name\\n'\n",
            " 'Parameters task_name (str) – task name\\n'\n",
            " 'Example\\n'\n",
            " \">>>kill_tasks('Revit.exe')\\n\"\n",
            " 'pyrevit.coreutils. make_canonical_name (*args)\\n'\n",
            " 'Join arguments with dot creating a unique id.\\n'\n",
            " 'Parameters *args – Variable length argument list of type str\\n'\n",
            " 'Returns dot separated unique name\\n'\n",
            " 'Return type str\\n'\n",
            " 'Example\\n'\n",
            " \">>>make_canonical_name('somename', 'someid', 'txt')\\n\"\n",
            " '\"somename.someid.txt\"\\n'\n",
            " 'pyrevit.coreutils. new_uuid ()\\n'\n",
            " 'Create a new UUID (using dotnet Guid.NewGuid)\\n'\n",
            " 'pyrevit.coreutils. open_folder_in_explorer (folder_path )\\n'\n",
            " 'Open given folder in Windows Explorer.\\n'\n",
            " 'Parameters folder_path (str) – directory path\\n'\n",
            " 'pyrevit.coreutils. prepare_html_str (input_string )\\n'\n",
            " 'Reformat html string and prepare for pyRevit output window.\\n'\n",
            " 'pyRevit output window renders html content. But this means that < and > '\n",
            " 'characters in outputs from python\\n'\n",
            " '(e.g. <class at xxx>) will be treated as html tags. To avoid this, all <> '\n",
            " 'characters that are deﬁning html content\\n'\n",
            " 'need to be replaced with special phrases. pyRevit output later translates '\n",
            " 'these phrases back in to < and >. That\\n'\n",
            " 'is how pyRevit distinquishes between <> printed from python and <> that '\n",
            " 'deﬁne html.\\n'\n",
            " 'Parameters input_string (str) – input html string\\n'\n",
            " 'Example\\n'\n",
            " \">>>prepare_html_str('<p>Some text</p>')\\n\"\n",
            " '\"&clt;p&cgt;Some text&clt;/p&cgt;\"\\n'\n",
            " 'pyrevit.coreutils. random_alpha ()\\n'\n",
            " 'Return a random alpha value (between 0 and 1.00).\\n'\n",
            " 'pyrevit.coreutils. random_color ()\\n'\n",
            " 'Return a random color channel value (between 0 and 255).\\n'\n",
            " 'pyrevit.coreutils. random_hex_color ()\\n'\n",
            " 'Return a random color in hex format.\\n'\n",
            " '4.11. pyrevit.coreutils.ribbon 49')\n",
            "('pyRevit Documentation, Release 4.8.13.23182+2215\\n'\n",
            " 'Example\\n'\n",
            " \">>>increment_str('A319z')\\n\"\n",
            " \"'A320a'\\n\"\n",
            " 'pyrevit.coreutils. inspect_calling_scope_global_var (variable_name )\\n'\n",
            " 'Trace back the stack to ﬁnd the variable in the caller global stack.\\n'\n",
            " 'Parameters variable_name (str) – variable name to look up in caller global '\n",
            " 'scope\\n'\n",
            " 'pyrevit.coreutils. inspect_calling_scope_local_var (variable_name )\\n'\n",
            " 'Trace back the stack to ﬁnd the variable in the caller local stack.\\n'\n",
            " 'PyRevitLoader deﬁnes __revit__ in builtins and __window__ in locals. Thus, '\n",
            " 'modules have access to __revit__\\n'\n",
            " 'but not to __window__. This function is used to ﬁnd __window__ in the caller '\n",
            " 'stack.\\n'\n",
            " 'Parameters variable_name (str) – variable name to look up in caller local '\n",
            " 'scope\\n'\n",
            " 'pyrevit.coreutils. int2hex_long (number)\\n'\n",
            " 'Integer to hexadecimal string.\\n'\n",
            " 'pyrevit.coreutils. is_blank (input_string )\\n'\n",
            " 'Check if input string is blank (multiple white spaces is blank).\\n'\n",
            " 'Parameters input_string (str) – input string\\n'\n",
            " 'Returns True if string is blank\\n'\n",
            " 'Return type bool\\n'\n",
            " 'Example\\n'\n",
            " \">>>is_blank(' ')\\n\"\n",
            " 'True\\n'\n",
            " 'pyrevit.coreutils. is_box_visible_on_screens (left,top,width ,height)\\n'\n",
            " 'Check if given box is visible on any screen.\\n'\n",
            " 'pyrevit.coreutils. is_url_valid (url_string)\\n'\n",
            " 'Check if given URL is in valid format.\\n'\n",
            " 'Parameters url_string (str) – URL string\\n'\n",
            " 'Returns True if URL is in valid format\\n'\n",
            " 'Return type bool\\n'\n",
            " 'Example\\n'\n",
            " \">>>is_url_valid('https://www.google.com')\\n\"\n",
            " 'True\\n'\n",
            " 'pyrevit.coreutils. join_strings (str_list ,separator=’;’ )\\n'\n",
            " 'Join strings using provided separator.\\n'\n",
            " 'Parameters\\n'\n",
            " '•str_list (list ) – list of string values\\n'\n",
            " '•separator (str) – single separator character, defaults to '\n",
            " 'DEFAULT_SEPARATOR\\n'\n",
            " '48 Chapter 4. pyrevit.coreutils')\n",
            "('pyRevit Documentation, Release 4.8.13.23182+2215\\n'\n",
            " 'pyrevit.coreutils. check_internet_connection (timeout=1000 )\\n'\n",
            " 'Check if internet connection is available.\\n'\n",
            " 'Pings a few well-known websites to check if internet connection is present.\\n'\n",
            " 'Parameters timeout (int) – timeout in milliseconds\\n'\n",
            " 'Returns url if internet connection is present, None if no internet.\\n'\n",
            " 'pyrevit.coreutils. cleanup_filename (ﬁle_name ,windows_safe=False )\\n'\n",
            " 'Cleanup ﬁle name from special characters.\\n'\n",
            " 'Parameters file_name (str) – ﬁle name\\n'\n",
            " 'Returns cleaned up ﬁle name\\n'\n",
            " 'Return type str\\n'\n",
            " 'Example\\n'\n",
            " \">>>cleanup_filename('Myfile-(3).txt')\\n\"\n",
            " '\"Myfile(3).txt\"\\n'\n",
            " '>>>cleanup_filename(\\'Perforations 1/8\" (New)\\')\\n'\n",
            " '\"Perforations 18 (New).txt\"\\n'\n",
            " 'pyrevit.coreutils. cleanup_string (input_str ,skip=None)\\n'\n",
            " 'Replace special characters in string with another string.\\n'\n",
            " 'This function was created to help cleanup pyRevit command unique names from '\n",
            " 'any special characters so C#\\n'\n",
            " 'class names can be created based on those unique names.\\n'\n",
            " 'coreutils.SPECIAL_CHARS is the conversion table for this function.\\n'\n",
            " 'Parameters input_str (str) – input string to be cleaned\\n'\n",
            " 'Example\\n'\n",
            " \">>>src_str = 'TEST@Some *<value>'\\n\"\n",
            " '>>>cleanup_string(src_str)\\n'\n",
            " '\"TESTATSomeSTARvalue\"\\n'\n",
            " 'pyrevit.coreutils. current_date ()\\n'\n",
            " 'Return formatted current date.\\n'\n",
            " 'Current implementation uses %Y-%m-%d to format date.\\n'\n",
            " 'Returns formatted current date.\\n'\n",
            " 'Return type str\\n'\n",
            " 'Example\\n'\n",
            " '>>>current_date()\\n'\n",
            " \"'2018-01-03'\\n\"\n",
            " '4.11. pyrevit.coreutils.ribbon 43')\n",
            "('pyRevit Documentation, Release 4.8.13.23182+2215\\n'\n",
            " 'static enable_element (*wpf_elements )\\n'\n",
            " 'Enable elements.\\n'\n",
            " 'Parameters *wpf_elements – WPF framework elements to be enabled\\n'\n",
            " 'handle_input_key (sender ,args)\\n'\n",
            " 'Handle keyboard input and close the window on Escape.\\n'\n",
            " 'handle_url_click (sender ,args)\\n'\n",
            " 'Callback for handling click on package website url\\n'\n",
            " 'static hide_element (*wpf_elements )\\n'\n",
            " 'Collapse elements.\\n'\n",
            " 'Parameters *wpf_elements – WPF framework elements to be collaped\\n'\n",
            " 'merge_resource_dict (xaml_source )\\n'\n",
            " 'Reads ResourceDictionary from given xaml ﬁle and merged into resource '\n",
            " 'dictionary of this window\\n'\n",
            " 'pyrevit_version\\n'\n",
            " 'Active pyRevit formatted version e.g. ‘4.9-beta’\\n'\n",
            " 'set_icon (icon_path)\\n'\n",
            " 'Set window icon to given icon path.\\n'\n",
            " 'set_image_source (wpf_element ,image_ﬁle)\\n'\n",
            " 'Set source ﬁle for image element.\\n'\n",
            " 'Parameters\\n'\n",
            " '•element_name (System.Windows.Controls.Image ) – xaml image element\\n'\n",
            " '•image_file (str) – image ﬁle path\\n'\n",
            " 'static set_image_source_file (wpf_element ,image_ﬁle)\\n'\n",
            " 'Set source ﬁle for image element.\\n'\n",
            " 'Parameters\\n'\n",
            " '•element_name (System.Windows.Controls.Image ) – xaml image element\\n'\n",
            " '•image_file (str) – image ﬁle path\\n'\n",
            " 'setup_icon ()\\n'\n",
            " 'Setup default window icon.\\n'\n",
            " 'show(modal=False )\\n'\n",
            " 'Show window.\\n'\n",
            " 'show_dialog ()\\n'\n",
            " 'Show modal window.\\n'\n",
            " 'static show_element (*wpf_elements )\\n'\n",
            " 'Show collapsed elements.\\n'\n",
            " 'Parameters *wpf_elements – WPF framework elements to be set to visible.\\n'\n",
            " 'static toggle_element (*wpf_elements )\\n'\n",
            " 'Toggle visibility of elements.\\n'\n",
            " 'Parameters *wpf_elements – WPF framework elements to be toggled.\\n'\n",
            " 'classpyrevit.forms. WarningBar (height=32 ,**kwargs)\\n'\n",
            " 'Show warning bar at the top of Revit window.\\n'\n",
            " 'Parameters title (string ) – warning bar text\\n'\n",
            " '62 Chapter 5. pyrevit.forms')\n",
            "\n",
            "Token count from reference text: 2060\n",
            "---------------------------------------------------------------------------------------------------- \n",
            "\n"
          ]
        },
        {
          "output_type": "execute_result",
          "data": {
            "text/plain": [
              "'pyRevit Documentation, Release 4.8.13.23182+2215\\nupdate_window ()\\nUpdate the prompt bar to match Revit window.\\nclasspyrevit.forms. TemplateUserInputWindow (context ,title,width ,height ,**kwargs)\\nBase class for pyRevit user input standard forms.\\nParameters\\n•context (any ) – window context element(s)\\n•title (str) – window title\\n•width (int) – window width\\n•height (int) – window height\\n•**kwargs – other arguments to be passed to _setup()\\nclassmethod show (context ,title=’User Input’ ,width=500 ,height=600 ,**kwargs)\\nShow user input window.\\nParameters\\n•context (any ) – window context element(s)\\n•title (str) – window title\\n•width (int) – window width\\n•height (int) – window height\\n•**kwargs (any ) – other arguments to be passed to window\\nclasspyrevit.forms. WPFWindow (xaml_source , literal_string=False , handle_esc=True ,\\nset_owner=True )\\nWPF Window base class for all pyRevit forms.\\nParameters\\n•xaml_source (str) – xaml source ﬁlepath or xaml content\\n•literal_string (bool ) – xaml_source contains xaml content, not ﬁlepath\\n•handle_esc (bool ) – handle Escape button and close the window\\n•set_owner (bool ) – set the owner of window to host app window\\nExample\\n>>> from pyrevit import forms\\n>>>layout = \\'<Window \\' \\\\\\n>>> \\'xmlns=\"http://schemas.microsoft.com/winfx/2006/xaml/presentation\" \\'\\n˓→\\\\\\n>>> \\'xmlns:x=\"http://schemas.microsoft.com/winfx/2006/xaml\" \\' \\\\\\n>>> \\'ShowInTaskbar=\"False\" ResizeMode=\"NoResize\" \\' \\\\\\n>>> \\'WindowStartupLocation=\"CenterScreen\" \\' \\\\\\n>>> \\'HorizontalContentAlignment=\"Center\">\\' \\\\\\n>>> \\'</Window>\\'\\n>>>w = forms.WPFWindow(layout, literal_string= True)\\n>>>w.show()\\nstatic disable_element (*wpf_elements )\\nEnable elements.\\nParameters *wpf_elements – WPF framework elements to be enabled\\n5.2. pyrevit.forms.utils 61\\n\\npyRevit Documentation, Release 4.8.13.23182+2215\\nReturns joined string\\nReturn type str\\npyrevit.coreutils. kill_tasks (task_name)\\nKill running tasks matching task_name\\nParameters task_name (str) – task name\\nExample\\n>>>kill_tasks(\\'Revit.exe\\')\\npyrevit.coreutils. make_canonical_name (*args)\\nJoin arguments with dot creating a unique id.\\nParameters *args – Variable length argument list of type str\\nReturns dot separated unique name\\nReturn type str\\nExample\\n>>>make_canonical_name(\\'somename\\', \\'someid\\', \\'txt\\')\\n\"somename.someid.txt\"\\npyrevit.coreutils. new_uuid ()\\nCreate a new UUID (using dotnet Guid.NewGuid)\\npyrevit.coreutils. open_folder_in_explorer (folder_path )\\nOpen given folder in Windows Explorer.\\nParameters folder_path (str) – directory path\\npyrevit.coreutils. prepare_html_str (input_string )\\nReformat html string and prepare for pyRevit output window.\\npyRevit output window renders html content. But this means that < and > characters in outputs from python\\n(e.g. <class at xxx>) will be treated as html tags. To avoid this, all <> characters that are deﬁning html content\\nneed to be replaced with special phrases. pyRevit output later translates these phrases back in to < and >. That\\nis how pyRevit distinquishes between <> printed from python and <> that deﬁne html.\\nParameters input_string (str) – input html string\\nExample\\n>>>prepare_html_str(\\'<p>Some text</p>\\')\\n\"&clt;p&cgt;Some text&clt;/p&cgt;\"\\npyrevit.coreutils. random_alpha ()\\nReturn a random alpha value (between 0 and 1.00).\\npyrevit.coreutils. random_color ()\\nReturn a random color channel value (between 0 and 255).\\npyrevit.coreutils. random_hex_color ()\\nReturn a random color in hex format.\\n4.11. pyrevit.coreutils.ribbon 49\\n\\npyRevit Documentation, Release 4.8.13.23182+2215\\nExample\\n>>>increment_str(\\'A319z\\')\\n\\'A320a\\'\\npyrevit.coreutils. inspect_calling_scope_global_var (variable_name )\\nTrace back the stack to ﬁnd the variable in the caller global stack.\\nParameters variable_name (str) – variable name to look up in caller global scope\\npyrevit.coreutils. inspect_calling_scope_local_var (variable_name )\\nTrace back the stack to ﬁnd the variable in the caller local stack.\\nPyRevitLoader deﬁnes __revit__ in builtins and __window__ in locals. Thus, modules have access to __revit__\\nbut not to __window__. This function is used to ﬁnd __window__ in the caller stack.\\nParameters variable_name (str) – variable name to look up in caller local scope\\npyrevit.coreutils. int2hex_long (number)\\nInteger to hexadecimal string.\\npyrevit.coreutils. is_blank (input_string )\\nCheck if input string is blank (multiple white spaces is blank).\\nParameters input_string (str) – input string\\nReturns True if string is blank\\nReturn type bool\\nExample\\n>>>is_blank(\\' \\')\\nTrue\\npyrevit.coreutils. is_box_visible_on_screens (left,top,width ,height)\\nCheck if given box is visible on any screen.\\npyrevit.coreutils. is_url_valid (url_string)\\nCheck if given URL is in valid format.\\nParameters url_string (str) – URL string\\nReturns True if URL is in valid format\\nReturn type bool\\nExample\\n>>>is_url_valid(\\'https://www.google.com\\')\\nTrue\\npyrevit.coreutils. join_strings (str_list ,separator=’;’ )\\nJoin strings using provided separator.\\nParameters\\n•str_list (list ) – list of string values\\n•separator (str) – single separator character, defaults to DEFAULT_SEPARATOR\\n48 Chapter 4. pyrevit.coreutils\\n\\npyRevit Documentation, Release 4.8.13.23182+2215\\npyrevit.coreutils. check_internet_connection (timeout=1000 )\\nCheck if internet connection is available.\\nPings a few well-known websites to check if internet connection is present.\\nParameters timeout (int) – timeout in milliseconds\\nReturns url if internet connection is present, None if no internet.\\npyrevit.coreutils. cleanup_filename (ﬁle_name ,windows_safe=False )\\nCleanup ﬁle name from special characters.\\nParameters file_name (str) – ﬁle name\\nReturns cleaned up ﬁle name\\nReturn type str\\nExample\\n>>>cleanup_filename(\\'Myfile-(3).txt\\')\\n\"Myfile(3).txt\"\\n>>>cleanup_filename(\\'Perforations 1/8\" (New)\\')\\n\"Perforations 18 (New).txt\"\\npyrevit.coreutils. cleanup_string (input_str ,skip=None)\\nReplace special characters in string with another string.\\nThis function was created to help cleanup pyRevit command unique names from any special characters so C#\\nclass names can be created based on those unique names.\\ncoreutils.SPECIAL_CHARS is the conversion table for this function.\\nParameters input_str (str) – input string to be cleaned\\nExample\\n>>>src_str = \\'TEST@Some *<value>\\'\\n>>>cleanup_string(src_str)\\n\"TESTATSomeSTARvalue\"\\npyrevit.coreutils. current_date ()\\nReturn formatted current date.\\nCurrent implementation uses %Y-%m-%d to format date.\\nReturns formatted current date.\\nReturn type str\\nExample\\n>>>current_date()\\n\\'2018-01-03\\'\\n4.11. pyrevit.coreutils.ribbon 43\\n\\npyRevit Documentation, Release 4.8.13.23182+2215\\nstatic enable_element (*wpf_elements )\\nEnable elements.\\nParameters *wpf_elements – WPF framework elements to be enabled\\nhandle_input_key (sender ,args)\\nHandle keyboard input and close the window on Escape.\\nhandle_url_click (sender ,args)\\nCallback for handling click on package website url\\nstatic hide_element (*wpf_elements )\\nCollapse elements.\\nParameters *wpf_elements – WPF framework elements to be collaped\\nmerge_resource_dict (xaml_source )\\nReads ResourceDictionary from given xaml ﬁle and merged into resource dictionary of this window\\npyrevit_version\\nActive pyRevit formatted version e.g. ‘4.9-beta’\\nset_icon (icon_path)\\nSet window icon to given icon path.\\nset_image_source (wpf_element ,image_ﬁle)\\nSet source ﬁle for image element.\\nParameters\\n•element_name (System.Windows.Controls.Image ) – xaml image element\\n•image_file (str) – image ﬁle path\\nstatic set_image_source_file (wpf_element ,image_ﬁle)\\nSet source ﬁle for image element.\\nParameters\\n•element_name (System.Windows.Controls.Image ) – xaml image element\\n•image_file (str) – image ﬁle path\\nsetup_icon ()\\nSetup default window icon.\\nshow(modal=False )\\nShow window.\\nshow_dialog ()\\nShow modal window.\\nstatic show_element (*wpf_elements )\\nShow collapsed elements.\\nParameters *wpf_elements – WPF framework elements to be set to visible.\\nstatic toggle_element (*wpf_elements )\\nToggle visibility of elements.\\nParameters *wpf_elements – WPF framework elements to be toggled.\\nclasspyrevit.forms. WarningBar (height=32 ,**kwargs)\\nShow warning bar at the top of Revit window.\\nParameters title (string ) – warning bar text\\n62 Chapter 5. pyrevit.forms'"
            ],
            "application/vnd.google.colaboratory.intrinsic+json": {
              "type": "string"
            }
          },
          "metadata": {},
          "execution_count": 28
        }
      ],
      "source": [
        "doc_retrieval('create input window', 5)\n"
      ]
    },
    {
      "cell_type": "code",
      "execution_count": null,
      "metadata": {
        "id": "xgYSBUHD9Ilr"
      },
      "outputs": [],
      "source": []
    }
  ],
  "metadata": {
    "accelerator": "GPU",
    "colab": {
      "gpuType": "T4",
      "provenance": []
    },
    "kernelspec": {
      "display_name": "Python 3",
      "name": "python3"
    },
    "language_info": {
      "name": "python"
    }
  },
  "nbformat": 4,
  "nbformat_minor": 0
}